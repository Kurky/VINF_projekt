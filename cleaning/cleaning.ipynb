{
 "cells": [
  {
   "cell_type": "code",
   "execution_count": 97,
   "id": "initial_id",
   "metadata": {
    "collapsed": true,
    "ExecuteTime": {
     "end_time": "2023-10-29T10:14:55.191723Z",
     "start_time": "2023-10-29T10:14:55.156240Z"
    }
   },
   "outputs": [],
   "source": [
    "import pandas as pd\n",
    "import numpy as np"
   ]
  },
  {
   "cell_type": "code",
   "execution_count": 98,
   "outputs": [],
   "source": [
    "def feet_to_cm(height):\n",
    "    if \"--\" in height:\n",
    "        return None\n",
    "    else:\n",
    "        height = height.replace('″', '')\n",
    "        feet, inches = map(int, height.split(\"′\"))\n",
    "        total_inches = feet * 12 + inches\n",
    "        cm = total_inches * 2.54\n",
    "        return cm\n",
    "\n",
    "\n",
    "def lb_to_kg(weight):\n",
    "    if \"--\" in weight:\n",
    "        return None\n",
    "    else:\n",
    "        weight = weight.replace(' lb', '')\n",
    "        return round(int(weight) * 0.453592, 2)"
   ],
   "metadata": {
    "collapsed": false,
    "ExecuteTime": {
     "end_time": "2023-10-29T10:14:55.216616Z",
     "start_time": "2023-10-29T10:14:55.167061Z"
    }
   },
   "id": "3ae77c1ca80ea695"
  },
  {
   "cell_type": "code",
   "execution_count": 99,
   "outputs": [
    {
     "data": {
      "text/plain": "      Player_ID     Player_Name Height  Weight       Born  \\\n0       8447400   Wayne Gretzky   6′0″  185 lb  1/26/1961   \n1       8448208    Jaromir Jagr   6′3″  230 lb  2/15/1972   \n2       8449573    Mark Messier   6′2″  211 lb  1/18/1961   \n3       8449573    Mark Messier   6′2″  211 lb  1/18/1961   \n4       8448000     Gordie Howe   6′0″  205 lb  3/31/1928   \n...         ...             ...    ...     ...        ...   \n7597    8480221    Drake Rymsha   6′0″  187 lb   8/6/1998   \n7598    8480201   Maksim Sushko   6′0″  206 lb  2/10/1999   \n7599    8480163     Philip Holm   6′1″  190 lb  12/8/1991   \n7600    8480161     Libor Sulak   6′2″  207 lb   3/4/1994   \n7601    8480087  Mike Vecchione  5′10″  193 lb  2/25/1993   \n\n                      Birthplace Shoots  \\\n0             Brantford, Ontario      L   \n1                Kladno, Czechia      L   \n2              Edmonton, Alberta      L   \n3              Edmonton, Alberta      L   \n4           Floral, Saskatchewan      R   \n...                          ...    ...   \n7597  Huntington Woods, Michigan      R   \n7598          Drahichyn, Belarus      L   \n7599           Stockholm, Sweden      L   \n7600          Pelhrimov, Czechia      L   \n7601       Saugus, Massachusetts      R   \n\n                                                Draft  GamePlayed  Goals  \\\n0                                           Undrafted        1487    894   \n1        1990, PIT (5th overall), 1st round, 5th pick        1733    766   \n2       1979, EDM (48th overall), 3rd round, 7th pick        1756    694   \n3       1979, EDM (48th overall), 3rd round, 7th pick        1756    694   \n4                                           Undrafted         157     68   \n...                                               ...         ...    ...   \n7597  2017, LAK (138th overall), 5th round, 14th pick           1      0   \n7598  2017, PHI (107th overall), 4th round, 14th pick           2      0   \n7599                                        Undrafted           1      0   \n7600                                        Undrafted           6      0   \n7601                                        Undrafted           3      0   \n\n      Assists  Points PlusMinus  \n0        1963    2857      +520  \n1        1155    1921      +322  \n2        1193    1887      +211  \n3        1193    1887      +211  \n4          92     160        --  \n...       ...     ...       ...  \n7597        0       0        +1  \n7598        0       0        -1  \n7599        0       0        -2  \n7600        0       0        -4  \n7601        0       0        -2  \n\n[7602 rows x 13 columns]",
      "text/html": "<div>\n<style scoped>\n    .dataframe tbody tr th:only-of-type {\n        vertical-align: middle;\n    }\n\n    .dataframe tbody tr th {\n        vertical-align: top;\n    }\n\n    .dataframe thead th {\n        text-align: right;\n    }\n</style>\n<table border=\"1\" class=\"dataframe\">\n  <thead>\n    <tr style=\"text-align: right;\">\n      <th></th>\n      <th>Player_ID</th>\n      <th>Player_Name</th>\n      <th>Height</th>\n      <th>Weight</th>\n      <th>Born</th>\n      <th>Birthplace</th>\n      <th>Shoots</th>\n      <th>Draft</th>\n      <th>GamePlayed</th>\n      <th>Goals</th>\n      <th>Assists</th>\n      <th>Points</th>\n      <th>PlusMinus</th>\n    </tr>\n  </thead>\n  <tbody>\n    <tr>\n      <th>0</th>\n      <td>8447400</td>\n      <td>Wayne Gretzky</td>\n      <td>6′0″</td>\n      <td>185 lb</td>\n      <td>1/26/1961</td>\n      <td>Brantford, Ontario</td>\n      <td>L</td>\n      <td>Undrafted</td>\n      <td>1487</td>\n      <td>894</td>\n      <td>1963</td>\n      <td>2857</td>\n      <td>+520</td>\n    </tr>\n    <tr>\n      <th>1</th>\n      <td>8448208</td>\n      <td>Jaromir Jagr</td>\n      <td>6′3″</td>\n      <td>230 lb</td>\n      <td>2/15/1972</td>\n      <td>Kladno, Czechia</td>\n      <td>L</td>\n      <td>1990, PIT (5th overall), 1st round, 5th pick</td>\n      <td>1733</td>\n      <td>766</td>\n      <td>1155</td>\n      <td>1921</td>\n      <td>+322</td>\n    </tr>\n    <tr>\n      <th>2</th>\n      <td>8449573</td>\n      <td>Mark Messier</td>\n      <td>6′2″</td>\n      <td>211 lb</td>\n      <td>1/18/1961</td>\n      <td>Edmonton, Alberta</td>\n      <td>L</td>\n      <td>1979, EDM (48th overall), 3rd round, 7th pick</td>\n      <td>1756</td>\n      <td>694</td>\n      <td>1193</td>\n      <td>1887</td>\n      <td>+211</td>\n    </tr>\n    <tr>\n      <th>3</th>\n      <td>8449573</td>\n      <td>Mark Messier</td>\n      <td>6′2″</td>\n      <td>211 lb</td>\n      <td>1/18/1961</td>\n      <td>Edmonton, Alberta</td>\n      <td>L</td>\n      <td>1979, EDM (48th overall), 3rd round, 7th pick</td>\n      <td>1756</td>\n      <td>694</td>\n      <td>1193</td>\n      <td>1887</td>\n      <td>+211</td>\n    </tr>\n    <tr>\n      <th>4</th>\n      <td>8448000</td>\n      <td>Gordie Howe</td>\n      <td>6′0″</td>\n      <td>205 lb</td>\n      <td>3/31/1928</td>\n      <td>Floral, Saskatchewan</td>\n      <td>R</td>\n      <td>Undrafted</td>\n      <td>157</td>\n      <td>68</td>\n      <td>92</td>\n      <td>160</td>\n      <td>--</td>\n    </tr>\n    <tr>\n      <th>...</th>\n      <td>...</td>\n      <td>...</td>\n      <td>...</td>\n      <td>...</td>\n      <td>...</td>\n      <td>...</td>\n      <td>...</td>\n      <td>...</td>\n      <td>...</td>\n      <td>...</td>\n      <td>...</td>\n      <td>...</td>\n      <td>...</td>\n    </tr>\n    <tr>\n      <th>7597</th>\n      <td>8480221</td>\n      <td>Drake Rymsha</td>\n      <td>6′0″</td>\n      <td>187 lb</td>\n      <td>8/6/1998</td>\n      <td>Huntington Woods, Michigan</td>\n      <td>R</td>\n      <td>2017, LAK (138th overall), 5th round, 14th pick</td>\n      <td>1</td>\n      <td>0</td>\n      <td>0</td>\n      <td>0</td>\n      <td>+1</td>\n    </tr>\n    <tr>\n      <th>7598</th>\n      <td>8480201</td>\n      <td>Maksim Sushko</td>\n      <td>6′0″</td>\n      <td>206 lb</td>\n      <td>2/10/1999</td>\n      <td>Drahichyn, Belarus</td>\n      <td>L</td>\n      <td>2017, PHI (107th overall), 4th round, 14th pick</td>\n      <td>2</td>\n      <td>0</td>\n      <td>0</td>\n      <td>0</td>\n      <td>-1</td>\n    </tr>\n    <tr>\n      <th>7599</th>\n      <td>8480163</td>\n      <td>Philip Holm</td>\n      <td>6′1″</td>\n      <td>190 lb</td>\n      <td>12/8/1991</td>\n      <td>Stockholm, Sweden</td>\n      <td>L</td>\n      <td>Undrafted</td>\n      <td>1</td>\n      <td>0</td>\n      <td>0</td>\n      <td>0</td>\n      <td>-2</td>\n    </tr>\n    <tr>\n      <th>7600</th>\n      <td>8480161</td>\n      <td>Libor Sulak</td>\n      <td>6′2″</td>\n      <td>207 lb</td>\n      <td>3/4/1994</td>\n      <td>Pelhrimov, Czechia</td>\n      <td>L</td>\n      <td>Undrafted</td>\n      <td>6</td>\n      <td>0</td>\n      <td>0</td>\n      <td>0</td>\n      <td>-4</td>\n    </tr>\n    <tr>\n      <th>7601</th>\n      <td>8480087</td>\n      <td>Mike Vecchione</td>\n      <td>5′10″</td>\n      <td>193 lb</td>\n      <td>2/25/1993</td>\n      <td>Saugus, Massachusetts</td>\n      <td>R</td>\n      <td>Undrafted</td>\n      <td>3</td>\n      <td>0</td>\n      <td>0</td>\n      <td>0</td>\n      <td>-2</td>\n    </tr>\n  </tbody>\n</table>\n<p>7602 rows × 13 columns</p>\n</div>"
     },
     "execution_count": 99,
     "metadata": {},
     "output_type": "execute_result"
    }
   ],
   "source": [
    "playersInfo = pd.read_csv('../data/csvFiles/playersInfo.csv')\n",
    "playersIds = pd.read_csv('../data/csvFiles/playersIds.csv')\n",
    "playersInfo= playersIds.merge(playersInfo, left_on='Player_ID', right_on='Player_ID')\n",
    "playersInfo"
   ],
   "metadata": {
    "collapsed": false,
    "ExecuteTime": {
     "end_time": "2023-10-29T10:14:55.254664Z",
     "start_time": "2023-10-29T10:14:55.174500Z"
    }
   },
   "id": "48313c4bd821d294"
  },
  {
   "cell_type": "code",
   "execution_count": 100,
   "outputs": [
    {
     "data": {
      "text/plain": "      Player_ID     Player_Name  Height  Weight       Born Shoots  GamePlayed  \\\n0       8447400   Wayne Gretzky  182.88   83.91 1961-01-26      L        1487   \n1       8448208    Jaromir Jagr  190.50  104.33 1972-02-15      L        1733   \n2       8449573    Mark Messier  187.96   95.71 1961-01-18      L        1756   \n3       8449573    Mark Messier  187.96   95.71 1961-01-18      L        1756   \n4       8448000     Gordie Howe  182.88   92.99 1928-03-31      R         157   \n...         ...             ...     ...     ...        ...    ...         ...   \n7597    8480221    Drake Rymsha  182.88   84.82 1998-08-06      R           1   \n7598    8480201   Maksim Sushko  182.88   93.44 1999-02-10      L           2   \n7599    8480163     Philip Holm  185.42   86.18 1991-12-08      L           1   \n7600    8480161     Libor Sulak  187.96   93.89 1994-03-04      L           6   \n7601    8480087  Mike Vecchione  177.80   87.54 1993-02-25      R           3   \n\n      Goals  Assists  Points PlusMinus              City        Country  \\\n0       894     1963    2857      +520         Brantford        Ontario   \n1       766     1155    1921      +322            Kladno        Czechia   \n2       694     1193    1887      +211          Edmonton        Alberta   \n3       694     1193    1887      +211          Edmonton        Alberta   \n4        68       92     160       NaN            Floral   Saskatchewan   \n...     ...      ...     ...       ...               ...            ...   \n7597      0        0       0        +1  Huntington Woods       Michigan   \n7598      0        0       0        -1         Drahichyn        Belarus   \n7599      0        0       0        -2         Stockholm         Sweden   \n7600      0        0       0        -4         Pelhrimov        Czechia   \n7601      0        0       0        -2            Saugus  Massachusetts   \n\n      DraftYear DraftTeam  DraftOverall  DraftRound  DraftPick  \n0             0       NaN             0           0          0  \n1          1990       PIT             5           1          5  \n2          1979       EDM            48           3          7  \n3          1979       EDM            48           3          7  \n4             0       NaN             0           0          0  \n...         ...       ...           ...         ...        ...  \n7597       2017       LAK           138           5         14  \n7598       2017       PHI           107           4         14  \n7599          0       NaN             0           0          0  \n7600          0       NaN             0           0          0  \n7601          0       NaN             0           0          0  \n\n[7602 rows x 18 columns]",
      "text/html": "<div>\n<style scoped>\n    .dataframe tbody tr th:only-of-type {\n        vertical-align: middle;\n    }\n\n    .dataframe tbody tr th {\n        vertical-align: top;\n    }\n\n    .dataframe thead th {\n        text-align: right;\n    }\n</style>\n<table border=\"1\" class=\"dataframe\">\n  <thead>\n    <tr style=\"text-align: right;\">\n      <th></th>\n      <th>Player_ID</th>\n      <th>Player_Name</th>\n      <th>Height</th>\n      <th>Weight</th>\n      <th>Born</th>\n      <th>Shoots</th>\n      <th>GamePlayed</th>\n      <th>Goals</th>\n      <th>Assists</th>\n      <th>Points</th>\n      <th>PlusMinus</th>\n      <th>City</th>\n      <th>Country</th>\n      <th>DraftYear</th>\n      <th>DraftTeam</th>\n      <th>DraftOverall</th>\n      <th>DraftRound</th>\n      <th>DraftPick</th>\n    </tr>\n  </thead>\n  <tbody>\n    <tr>\n      <th>0</th>\n      <td>8447400</td>\n      <td>Wayne Gretzky</td>\n      <td>182.88</td>\n      <td>83.91</td>\n      <td>1961-01-26</td>\n      <td>L</td>\n      <td>1487</td>\n      <td>894</td>\n      <td>1963</td>\n      <td>2857</td>\n      <td>+520</td>\n      <td>Brantford</td>\n      <td>Ontario</td>\n      <td>0</td>\n      <td>NaN</td>\n      <td>0</td>\n      <td>0</td>\n      <td>0</td>\n    </tr>\n    <tr>\n      <th>1</th>\n      <td>8448208</td>\n      <td>Jaromir Jagr</td>\n      <td>190.50</td>\n      <td>104.33</td>\n      <td>1972-02-15</td>\n      <td>L</td>\n      <td>1733</td>\n      <td>766</td>\n      <td>1155</td>\n      <td>1921</td>\n      <td>+322</td>\n      <td>Kladno</td>\n      <td>Czechia</td>\n      <td>1990</td>\n      <td>PIT</td>\n      <td>5</td>\n      <td>1</td>\n      <td>5</td>\n    </tr>\n    <tr>\n      <th>2</th>\n      <td>8449573</td>\n      <td>Mark Messier</td>\n      <td>187.96</td>\n      <td>95.71</td>\n      <td>1961-01-18</td>\n      <td>L</td>\n      <td>1756</td>\n      <td>694</td>\n      <td>1193</td>\n      <td>1887</td>\n      <td>+211</td>\n      <td>Edmonton</td>\n      <td>Alberta</td>\n      <td>1979</td>\n      <td>EDM</td>\n      <td>48</td>\n      <td>3</td>\n      <td>7</td>\n    </tr>\n    <tr>\n      <th>3</th>\n      <td>8449573</td>\n      <td>Mark Messier</td>\n      <td>187.96</td>\n      <td>95.71</td>\n      <td>1961-01-18</td>\n      <td>L</td>\n      <td>1756</td>\n      <td>694</td>\n      <td>1193</td>\n      <td>1887</td>\n      <td>+211</td>\n      <td>Edmonton</td>\n      <td>Alberta</td>\n      <td>1979</td>\n      <td>EDM</td>\n      <td>48</td>\n      <td>3</td>\n      <td>7</td>\n    </tr>\n    <tr>\n      <th>4</th>\n      <td>8448000</td>\n      <td>Gordie Howe</td>\n      <td>182.88</td>\n      <td>92.99</td>\n      <td>1928-03-31</td>\n      <td>R</td>\n      <td>157</td>\n      <td>68</td>\n      <td>92</td>\n      <td>160</td>\n      <td>NaN</td>\n      <td>Floral</td>\n      <td>Saskatchewan</td>\n      <td>0</td>\n      <td>NaN</td>\n      <td>0</td>\n      <td>0</td>\n      <td>0</td>\n    </tr>\n    <tr>\n      <th>...</th>\n      <td>...</td>\n      <td>...</td>\n      <td>...</td>\n      <td>...</td>\n      <td>...</td>\n      <td>...</td>\n      <td>...</td>\n      <td>...</td>\n      <td>...</td>\n      <td>...</td>\n      <td>...</td>\n      <td>...</td>\n      <td>...</td>\n      <td>...</td>\n      <td>...</td>\n      <td>...</td>\n      <td>...</td>\n      <td>...</td>\n    </tr>\n    <tr>\n      <th>7597</th>\n      <td>8480221</td>\n      <td>Drake Rymsha</td>\n      <td>182.88</td>\n      <td>84.82</td>\n      <td>1998-08-06</td>\n      <td>R</td>\n      <td>1</td>\n      <td>0</td>\n      <td>0</td>\n      <td>0</td>\n      <td>+1</td>\n      <td>Huntington Woods</td>\n      <td>Michigan</td>\n      <td>2017</td>\n      <td>LAK</td>\n      <td>138</td>\n      <td>5</td>\n      <td>14</td>\n    </tr>\n    <tr>\n      <th>7598</th>\n      <td>8480201</td>\n      <td>Maksim Sushko</td>\n      <td>182.88</td>\n      <td>93.44</td>\n      <td>1999-02-10</td>\n      <td>L</td>\n      <td>2</td>\n      <td>0</td>\n      <td>0</td>\n      <td>0</td>\n      <td>-1</td>\n      <td>Drahichyn</td>\n      <td>Belarus</td>\n      <td>2017</td>\n      <td>PHI</td>\n      <td>107</td>\n      <td>4</td>\n      <td>14</td>\n    </tr>\n    <tr>\n      <th>7599</th>\n      <td>8480163</td>\n      <td>Philip Holm</td>\n      <td>185.42</td>\n      <td>86.18</td>\n      <td>1991-12-08</td>\n      <td>L</td>\n      <td>1</td>\n      <td>0</td>\n      <td>0</td>\n      <td>0</td>\n      <td>-2</td>\n      <td>Stockholm</td>\n      <td>Sweden</td>\n      <td>0</td>\n      <td>NaN</td>\n      <td>0</td>\n      <td>0</td>\n      <td>0</td>\n    </tr>\n    <tr>\n      <th>7600</th>\n      <td>8480161</td>\n      <td>Libor Sulak</td>\n      <td>187.96</td>\n      <td>93.89</td>\n      <td>1994-03-04</td>\n      <td>L</td>\n      <td>6</td>\n      <td>0</td>\n      <td>0</td>\n      <td>0</td>\n      <td>-4</td>\n      <td>Pelhrimov</td>\n      <td>Czechia</td>\n      <td>0</td>\n      <td>NaN</td>\n      <td>0</td>\n      <td>0</td>\n      <td>0</td>\n    </tr>\n    <tr>\n      <th>7601</th>\n      <td>8480087</td>\n      <td>Mike Vecchione</td>\n      <td>177.80</td>\n      <td>87.54</td>\n      <td>1993-02-25</td>\n      <td>R</td>\n      <td>3</td>\n      <td>0</td>\n      <td>0</td>\n      <td>0</td>\n      <td>-2</td>\n      <td>Saugus</td>\n      <td>Massachusetts</td>\n      <td>0</td>\n      <td>NaN</td>\n      <td>0</td>\n      <td>0</td>\n      <td>0</td>\n    </tr>\n  </tbody>\n</table>\n<p>7602 rows × 18 columns</p>\n</div>"
     },
     "execution_count": 100,
     "metadata": {},
     "output_type": "execute_result"
    }
   ],
   "source": [
    "playersInfo['Height'] = playersInfo['Height'].apply(feet_to_cm)\n",
    "playersInfo['Weight'] = playersInfo['Weight'].apply(lb_to_kg)\n",
    "playersInfo['Born'] = playersInfo['Born'].str.extract(r'(\\d{1,2}/\\d{1,2}/\\d{4})', expand=False)\n",
    "playersInfo['Born'] = pd.to_datetime(playersInfo['Born'], format='%m/%d/%Y')\n",
    "playersInfo[['City', 'Country']] = playersInfo['Birthplace'].str.split(', ', 1, expand=True)\n",
    "playersInfo = playersInfo.drop('Birthplace', axis=1)\n",
    "draft_data = playersInfo['Draft'].str.extract(r'(\\d{4}), (\\w{3}) \\((\\d+)(?:st|nd|rd|th) overall\\), (\\d+)(?:st|nd|rd|th) round, (\\d+)(?:st|nd|rd|th) pick')\n",
    "draft_data.columns = ['DraftYear', 'DraftTeam', 'DraftOverall', 'DraftRound', 'DraftPick']\n",
    "playersInfo = pd.concat([playersInfo, draft_data], axis=1)\n",
    "playersInfo = playersInfo.drop('Draft', axis=1)\n",
    "playersInfo['DraftYear'] = pd.to_numeric(draft_data['DraftYear'], errors='coerce').fillna(0).astype(int)\n",
    "playersInfo['DraftOverall'] = pd.to_numeric(draft_data['DraftOverall'], errors='coerce').fillna(0).astype(int)\n",
    "playersInfo['DraftRound'] = pd.to_numeric(draft_data['DraftRound'], errors='coerce').fillna(0).astype(int)\n",
    "playersInfo['DraftPick'] = pd.to_numeric(draft_data['DraftPick'], errors='coerce').fillna(0).astype(int)\n",
    "playersInfo['PlusMinus'] = playersInfo['PlusMinus'].astype(str)\n",
    "playersInfo['Shoots'] = playersInfo['Shoots'].astype(str)\n",
    "playersInfo.replace('--', np.nan, inplace=True)\n",
    "playersInfo"
   ],
   "metadata": {
    "collapsed": false,
    "ExecuteTime": {
     "end_time": "2023-10-29T10:14:55.506198Z",
     "start_time": "2023-10-29T10:14:55.270171Z"
    }
   },
   "id": "dfc43db0b887a269"
  },
  {
   "cell_type": "code",
   "execution_count": 101,
   "outputs": [
    {
     "data": {
      "text/plain": "Player_ID                int64\nPlayer_Name             object\nHeight                 float64\nWeight                 float64\nBorn            datetime64[ns]\nShoots                  object\nGamePlayed               int64\nGoals                    int64\nAssists                  int64\nPoints                   int64\nPlusMinus               object\nCity                    object\nCountry                 object\nDraftYear                int64\nDraftTeam               object\nDraftOverall             int64\nDraftRound               int64\nDraftPick                int64\ndtype: object"
     },
     "execution_count": 101,
     "metadata": {},
     "output_type": "execute_result"
    }
   ],
   "source": [
    "playersInfo.dtypes"
   ],
   "metadata": {
    "collapsed": false,
    "ExecuteTime": {
     "end_time": "2023-10-29T10:14:55.506510Z",
     "start_time": "2023-10-29T10:14:55.471562Z"
    }
   },
   "id": "69ff12481364f5da"
  },
  {
   "cell_type": "code",
   "execution_count": 102,
   "outputs": [],
   "source": [
    "playersInfo.to_csv('../data/cleanCsvFiles/playersInfo.csv', index=False)"
   ],
   "metadata": {
    "collapsed": false,
    "ExecuteTime": {
     "end_time": "2023-10-29T10:14:55.681944Z",
     "start_time": "2023-10-29T10:14:55.481848Z"
    }
   },
   "id": "78f031000d394e81"
  },
  {
   "cell_type": "code",
   "execution_count": 103,
   "outputs": [
    {
     "data": {
      "text/plain": "       Player_ID   Season         Team  GamePlayed  Goals  Assists  Points  \\\n0        8447153  1948-49  Maple Leafs           1      0        0       0   \n1        8480977  2022-23  Maple Leafs           1      0        0       0   \n2        8475188  2011-12       Sabres          25      1        7       8   \n3        8475188  2013-14       Sabres          12      0        0       0   \n4        8475188  2014-15        Kings          71      2       22      24   \n...          ...      ...          ...         ...    ...      ...     ...   \n49712    8470171  2013-14       Flyers          11      1        1       2   \n49713    8470171  2013-14    Avalanche          70      7       18      25   \n49714    8470171  2014-15    Avalanche          63      5       10      15   \n49715    8470171  2014-15       Bruins          18      0        3       3   \n49716    8470171  2015-16       Bruins          38      2        5       7   \n\n      PlusMinus  PenaltyInfractionMinutes  PowerplayGoals  PowerplayPoints  \\\n0           NaN                         2               0                0   \n1            +1                         0               0                0   \n2            -1                        15               1                1   \n3            +1                         6               0                0   \n4           +11                        52               0                5   \n...         ...                       ...             ...              ...   \n49712        +1                         2               0                0   \n49713        +4                        43               0                1   \n49714        +2                        27               0                0   \n49715        -3                         2               0                0   \n49716       -11                        15               0                1   \n\n       ShorthandedGoals  ShorthandedPoints TimeOnIcePerGame  GameWinningGoals  \\\n0                     0                  0              NaN                 0   \n1                     0                  0             7:16                 0   \n2                     0                  0            17:50                 0   \n3                     0                  0            17:13                 0   \n4                     0                  0            15:53                 1   \n...                 ...                ...              ...               ...   \n49712                 0                  0            15:08                 0   \n49713                 1                  1            16:19                 1   \n49714                 0                  0            14:00                 1   \n49715                 0                  0            12:13                 0   \n49716                 0                  0            11:12                 1   \n\n       OvertimeGoals  Shots  ShootingPercentage  FaceOffPercentage  \n0                  0      0                 0.0           0.000000  \n1                  0      0                 0.0           0.000000  \n2                  0     23                 4.4           0.000000  \n3                  0     10                 0.0           0.000000  \n4                  0     74                 2.7         100.000000  \n...              ...    ...                 ...                ...  \n49712              0     14                 7.1          61.500000  \n49713              0    110                 6.4          42.200001  \n49714              0     73                 6.9          49.000000  \n49715              0     24                 0.0          36.400002  \n49716              0     29                 6.9          47.500000  \n\n[49717 rows x 19 columns]",
      "text/html": "<div>\n<style scoped>\n    .dataframe tbody tr th:only-of-type {\n        vertical-align: middle;\n    }\n\n    .dataframe tbody tr th {\n        vertical-align: top;\n    }\n\n    .dataframe thead th {\n        text-align: right;\n    }\n</style>\n<table border=\"1\" class=\"dataframe\">\n  <thead>\n    <tr style=\"text-align: right;\">\n      <th></th>\n      <th>Player_ID</th>\n      <th>Season</th>\n      <th>Team</th>\n      <th>GamePlayed</th>\n      <th>Goals</th>\n      <th>Assists</th>\n      <th>Points</th>\n      <th>PlusMinus</th>\n      <th>PenaltyInfractionMinutes</th>\n      <th>PowerplayGoals</th>\n      <th>PowerplayPoints</th>\n      <th>ShorthandedGoals</th>\n      <th>ShorthandedPoints</th>\n      <th>TimeOnIcePerGame</th>\n      <th>GameWinningGoals</th>\n      <th>OvertimeGoals</th>\n      <th>Shots</th>\n      <th>ShootingPercentage</th>\n      <th>FaceOffPercentage</th>\n    </tr>\n  </thead>\n  <tbody>\n    <tr>\n      <th>0</th>\n      <td>8447153</td>\n      <td>1948-49</td>\n      <td>Maple Leafs</td>\n      <td>1</td>\n      <td>0</td>\n      <td>0</td>\n      <td>0</td>\n      <td>NaN</td>\n      <td>2</td>\n      <td>0</td>\n      <td>0</td>\n      <td>0</td>\n      <td>0</td>\n      <td>NaN</td>\n      <td>0</td>\n      <td>0</td>\n      <td>0</td>\n      <td>0.0</td>\n      <td>0.000000</td>\n    </tr>\n    <tr>\n      <th>1</th>\n      <td>8480977</td>\n      <td>2022-23</td>\n      <td>Maple Leafs</td>\n      <td>1</td>\n      <td>0</td>\n      <td>0</td>\n      <td>0</td>\n      <td>+1</td>\n      <td>0</td>\n      <td>0</td>\n      <td>0</td>\n      <td>0</td>\n      <td>0</td>\n      <td>7:16</td>\n      <td>0</td>\n      <td>0</td>\n      <td>0</td>\n      <td>0.0</td>\n      <td>0.000000</td>\n    </tr>\n    <tr>\n      <th>2</th>\n      <td>8475188</td>\n      <td>2011-12</td>\n      <td>Sabres</td>\n      <td>25</td>\n      <td>1</td>\n      <td>7</td>\n      <td>8</td>\n      <td>-1</td>\n      <td>15</td>\n      <td>1</td>\n      <td>1</td>\n      <td>0</td>\n      <td>0</td>\n      <td>17:50</td>\n      <td>0</td>\n      <td>0</td>\n      <td>23</td>\n      <td>4.4</td>\n      <td>0.000000</td>\n    </tr>\n    <tr>\n      <th>3</th>\n      <td>8475188</td>\n      <td>2013-14</td>\n      <td>Sabres</td>\n      <td>12</td>\n      <td>0</td>\n      <td>0</td>\n      <td>0</td>\n      <td>+1</td>\n      <td>6</td>\n      <td>0</td>\n      <td>0</td>\n      <td>0</td>\n      <td>0</td>\n      <td>17:13</td>\n      <td>0</td>\n      <td>0</td>\n      <td>10</td>\n      <td>0.0</td>\n      <td>0.000000</td>\n    </tr>\n    <tr>\n      <th>4</th>\n      <td>8475188</td>\n      <td>2014-15</td>\n      <td>Kings</td>\n      <td>71</td>\n      <td>2</td>\n      <td>22</td>\n      <td>24</td>\n      <td>+11</td>\n      <td>52</td>\n      <td>0</td>\n      <td>5</td>\n      <td>0</td>\n      <td>0</td>\n      <td>15:53</td>\n      <td>1</td>\n      <td>0</td>\n      <td>74</td>\n      <td>2.7</td>\n      <td>100.000000</td>\n    </tr>\n    <tr>\n      <th>...</th>\n      <td>...</td>\n      <td>...</td>\n      <td>...</td>\n      <td>...</td>\n      <td>...</td>\n      <td>...</td>\n      <td>...</td>\n      <td>...</td>\n      <td>...</td>\n      <td>...</td>\n      <td>...</td>\n      <td>...</td>\n      <td>...</td>\n      <td>...</td>\n      <td>...</td>\n      <td>...</td>\n      <td>...</td>\n      <td>...</td>\n      <td>...</td>\n    </tr>\n    <tr>\n      <th>49712</th>\n      <td>8470171</td>\n      <td>2013-14</td>\n      <td>Flyers</td>\n      <td>11</td>\n      <td>1</td>\n      <td>1</td>\n      <td>2</td>\n      <td>+1</td>\n      <td>2</td>\n      <td>0</td>\n      <td>0</td>\n      <td>0</td>\n      <td>0</td>\n      <td>15:08</td>\n      <td>0</td>\n      <td>0</td>\n      <td>14</td>\n      <td>7.1</td>\n      <td>61.500000</td>\n    </tr>\n    <tr>\n      <th>49713</th>\n      <td>8470171</td>\n      <td>2013-14</td>\n      <td>Avalanche</td>\n      <td>70</td>\n      <td>7</td>\n      <td>18</td>\n      <td>25</td>\n      <td>+4</td>\n      <td>43</td>\n      <td>0</td>\n      <td>1</td>\n      <td>1</td>\n      <td>1</td>\n      <td>16:19</td>\n      <td>1</td>\n      <td>0</td>\n      <td>110</td>\n      <td>6.4</td>\n      <td>42.200001</td>\n    </tr>\n    <tr>\n      <th>49714</th>\n      <td>8470171</td>\n      <td>2014-15</td>\n      <td>Avalanche</td>\n      <td>63</td>\n      <td>5</td>\n      <td>10</td>\n      <td>15</td>\n      <td>+2</td>\n      <td>27</td>\n      <td>0</td>\n      <td>0</td>\n      <td>0</td>\n      <td>0</td>\n      <td>14:00</td>\n      <td>1</td>\n      <td>0</td>\n      <td>73</td>\n      <td>6.9</td>\n      <td>49.000000</td>\n    </tr>\n    <tr>\n      <th>49715</th>\n      <td>8470171</td>\n      <td>2014-15</td>\n      <td>Bruins</td>\n      <td>18</td>\n      <td>0</td>\n      <td>3</td>\n      <td>3</td>\n      <td>-3</td>\n      <td>2</td>\n      <td>0</td>\n      <td>0</td>\n      <td>0</td>\n      <td>0</td>\n      <td>12:13</td>\n      <td>0</td>\n      <td>0</td>\n      <td>24</td>\n      <td>0.0</td>\n      <td>36.400002</td>\n    </tr>\n    <tr>\n      <th>49716</th>\n      <td>8470171</td>\n      <td>2015-16</td>\n      <td>Bruins</td>\n      <td>38</td>\n      <td>2</td>\n      <td>5</td>\n      <td>7</td>\n      <td>-11</td>\n      <td>15</td>\n      <td>0</td>\n      <td>1</td>\n      <td>0</td>\n      <td>0</td>\n      <td>11:12</td>\n      <td>1</td>\n      <td>0</td>\n      <td>29</td>\n      <td>6.9</td>\n      <td>47.500000</td>\n    </tr>\n  </tbody>\n</table>\n<p>49717 rows × 19 columns</p>\n</div>"
     },
     "execution_count": 103,
     "metadata": {},
     "output_type": "execute_result"
    }
   ],
   "source": [
    "playersSeasons = pd.read_csv('../data/csvFiles/playersSeasons.csv')\n",
    "playersSeasons.replace('--', np.nan, inplace=True)\n",
    "columns_to_convert = ['GamePlayed', 'Goals', 'Assists', 'Points', 'PenaltyInfractionMinutes', 'PowerplayGoals', 'PowerplayPoints', \n",
    "                      'ShorthandedGoals', 'ShorthandedPoints', 'GameWinningGoals', 'OvertimeGoals', 'Shots']\n",
    "for column in columns_to_convert:\n",
    "    playersSeasons[column] = pd.to_numeric(playersSeasons[column], errors='coerce').fillna(0).astype(int)\n",
    "playersSeasons['ShootingPercentage'] = pd.to_numeric(playersSeasons['ShootingPercentage'], errors='coerce', downcast='float').fillna(0)\n",
    "playersSeasons['FaceOffPercentage'] = pd.to_numeric(playersSeasons['FaceOffPercentage'], errors='coerce', downcast='float').fillna(0)\n",
    "playersSeasons"
   ],
   "metadata": {
    "collapsed": false,
    "ExecuteTime": {
     "end_time": "2023-10-29T10:14:56.270235Z",
     "start_time": "2023-10-29T10:14:55.632478Z"
    }
   },
   "id": "e38d4bdad5dc906f"
  },
  {
   "cell_type": "code",
   "execution_count": 104,
   "outputs": [
    {
     "data": {
      "text/plain": "Player_ID                     int64\nSeason                       object\nTeam                         object\nGamePlayed                    int64\nGoals                         int64\nAssists                       int64\nPoints                        int64\nPlusMinus                    object\nPenaltyInfractionMinutes      int64\nPowerplayGoals                int64\nPowerplayPoints               int64\nShorthandedGoals              int64\nShorthandedPoints             int64\nTimeOnIcePerGame             object\nGameWinningGoals              int64\nOvertimeGoals                 int64\nShots                         int64\nShootingPercentage          float32\nFaceOffPercentage           float32\ndtype: object"
     },
     "execution_count": 104,
     "metadata": {},
     "output_type": "execute_result"
    }
   ],
   "source": [
    "playersSeasons.dtypes"
   ],
   "metadata": {
    "collapsed": false,
    "ExecuteTime": {
     "end_time": "2023-10-29T10:14:56.271528Z",
     "start_time": "2023-10-29T10:14:56.255536Z"
    }
   },
   "id": "b8169bb8a7070584"
  },
  {
   "cell_type": "code",
   "execution_count": 105,
   "outputs": [],
   "source": [
    "playersSeasons.to_csv('../data/cleanCsvFiles/playersSeasons.csv', index=False)"
   ],
   "metadata": {
    "collapsed": false,
    "ExecuteTime": {
     "end_time": "2023-10-29T10:14:56.731234Z",
     "start_time": "2023-10-29T10:14:56.272454Z"
    }
   },
   "id": "b03280d2b7bab631"
  }
 ],
 "metadata": {
  "kernelspec": {
   "display_name": "Python 3",
   "language": "python",
   "name": "python3"
  },
  "language_info": {
   "codemirror_mode": {
    "name": "ipython",
    "version": 2
   },
   "file_extension": ".py",
   "mimetype": "text/x-python",
   "name": "python",
   "nbconvert_exporter": "python",
   "pygments_lexer": "ipython2",
   "version": "2.7.6"
  }
 },
 "nbformat": 4,
 "nbformat_minor": 5
}
