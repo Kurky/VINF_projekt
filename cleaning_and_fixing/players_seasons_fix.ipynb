{
 "cells": [
  {
   "cell_type": "code",
   "execution_count": 12,
   "id": "initial_id",
   "metadata": {
    "collapsed": true,
    "ExecuteTime": {
     "end_time": "2023-10-29T09:55:40.289051Z",
     "start_time": "2023-10-29T09:55:40.283364Z"
    }
   },
   "outputs": [],
   "source": [
    "import os \n",
    "import re\n",
    "from glob import glob\n",
    "import pandas as pd"
   ]
  },
  {
   "cell_type": "code",
   "execution_count": 13,
   "outputs": [],
   "source": [
    "baseDir = os.path.normpath('../data/rawHTML/playersSeasons')\n",
    "folders = glob(baseDir + '/*')\n",
    "counter = 0\n",
    "all_seasons = []\n",
    "for folder in folders:\n",
    "    seasons = []\n",
    "    counter = counter + 1\n",
    "    # print(counter)\n",
    "    player_id = int(re.findall(r'\\d+', folder)[0])\n",
    "    f = open(folder, \"r\")\n",
    "    rendered_html = f.read()\n",
    "    matches = re.findall(r'<div class=\"sc-jGKxIK (carAtq|cTamTE|ceEiFm|cjpdWM|gTLwwK) rt-td \">(.+?)</div>',\n",
    "                         rendered_html)\n",
    "    if matches:\n",
    "        values = [match[1] for match in matches]\n",
    "        season = {'Player_ID': player_id}\n",
    "        keys = ['Season', 'Team', 'GamePlayed', 'Goals', 'Assists', 'Points', 'PlusMinus', 'PenaltyInfractionMinutes',\n",
    "                'PowerplayGoals', 'PowerplayPoints', 'ShorthandedGoals', 'ShorthandedPoints', 'TimeOnIcePerGame',\n",
    "                'GameWinningGoals', 'OvertimeGoals', 'Shots', 'ShootingPercentage', 'FaceOffPercentage']\n",
    "        cnt = 0\n",
    "        first = False\n",
    "        for value in values:\n",
    "            if value == 'Career':\n",
    "                seasons.append(season)\n",
    "                break\n",
    "            match = re.findall(r'\\b\\d{4}-\\d{2}\\b', value)\n",
    "            if match:\n",
    "                if first:\n",
    "                    seasons.append(season)\n",
    "                    season = {'Player_ID': player_id}\n",
    "                    cnt = 0\n",
    "                else:\n",
    "                    cnt = 0\n",
    "                    first = True\n",
    "            else:\n",
    "                if not first:\n",
    "                    cnt = 0\n",
    "            season[keys[cnt]] = value\n",
    "            cnt = cnt + 1    \n",
    "    all_seasons = all_seasons + seasons\n",
    "    f.close()\n",
    "players_seasons_df = pd.DataFrame(all_seasons)    "
   ],
   "metadata": {
    "collapsed": false,
    "ExecuteTime": {
     "end_time": "2023-10-29T09:56:01.731906Z",
     "start_time": "2023-10-29T09:55:40.295281Z"
    }
   },
   "id": "901f367b00f6a2ac"
  },
  {
   "cell_type": "code",
   "execution_count": 14,
   "outputs": [
    {
     "data": {
      "text/plain": "       Player_ID   Season         Team GamePlayed Goals Assists Points  \\\n0        8447153  1948-49  Maple Leafs          1     0       0      0   \n1        8480977  2022-23  Maple Leafs          1     0       0      0   \n2        8475188  2011-12       Sabres         25     1       7      8   \n3        8475188  2013-14       Sabres         12     0       0      0   \n4        8475188  2014-15        Kings         71     2      22     24   \n...          ...      ...          ...        ...   ...     ...    ...   \n49712    8470171  2013-14       Flyers         11     1       1      2   \n49713    8470171  2013-14    Avalanche         70     7      18     25   \n49714    8470171  2014-15    Avalanche         63     5      10     15   \n49715    8470171  2014-15       Bruins         18     0       3      3   \n49716    8470171  2015-16       Bruins         38     2       5      7   \n\n      PlusMinus PenaltyInfractionMinutes PowerplayGoals PowerplayPoints  \\\n0            --                        2              0               0   \n1            +1                        0              0               0   \n2            -1                       15              1               1   \n3            +1                        6              0               0   \n4           +11                       52              0               5   \n...         ...                      ...            ...             ...   \n49712        +1                        2              0               0   \n49713        +4                       43              0               1   \n49714        +2                       27              0               0   \n49715        -3                        2              0               0   \n49716       -11                       15              0               1   \n\n      ShorthandedGoals ShorthandedPoints TimeOnIcePerGame GameWinningGoals  \\\n0                    0                 0               --                0   \n1                    0                 0             7:16                0   \n2                    0                 0            17:50                0   \n3                    0                 0            17:13                0   \n4                    0                 0            15:53                1   \n...                ...               ...              ...              ...   \n49712                0                 0            15:08                0   \n49713                1                 1            16:19                1   \n49714                0                 0            14:00                1   \n49715                0                 0            12:13                0   \n49716                0                 0            11:12                1   \n\n      OvertimeGoals Shots ShootingPercentage FaceOffPercentage  \n0                 0    --                 --                --  \n1                 0     0                0.0               0.0  \n2                 0    23                4.4               0.0  \n3                 0    10                0.0               0.0  \n4                 0    74                2.7             100.0  \n...             ...   ...                ...               ...  \n49712             0    14                7.1              61.5  \n49713             0   110                6.4              42.2  \n49714             0    73                6.9              49.0  \n49715             0    24                0.0              36.4  \n49716             0    29                6.9              47.5  \n\n[49717 rows x 19 columns]",
      "text/html": "<div>\n<style scoped>\n    .dataframe tbody tr th:only-of-type {\n        vertical-align: middle;\n    }\n\n    .dataframe tbody tr th {\n        vertical-align: top;\n    }\n\n    .dataframe thead th {\n        text-align: right;\n    }\n</style>\n<table border=\"1\" class=\"dataframe\">\n  <thead>\n    <tr style=\"text-align: right;\">\n      <th></th>\n      <th>Player_ID</th>\n      <th>Season</th>\n      <th>Team</th>\n      <th>GamePlayed</th>\n      <th>Goals</th>\n      <th>Assists</th>\n      <th>Points</th>\n      <th>PlusMinus</th>\n      <th>PenaltyInfractionMinutes</th>\n      <th>PowerplayGoals</th>\n      <th>PowerplayPoints</th>\n      <th>ShorthandedGoals</th>\n      <th>ShorthandedPoints</th>\n      <th>TimeOnIcePerGame</th>\n      <th>GameWinningGoals</th>\n      <th>OvertimeGoals</th>\n      <th>Shots</th>\n      <th>ShootingPercentage</th>\n      <th>FaceOffPercentage</th>\n    </tr>\n  </thead>\n  <tbody>\n    <tr>\n      <th>0</th>\n      <td>8447153</td>\n      <td>1948-49</td>\n      <td>Maple Leafs</td>\n      <td>1</td>\n      <td>0</td>\n      <td>0</td>\n      <td>0</td>\n      <td>--</td>\n      <td>2</td>\n      <td>0</td>\n      <td>0</td>\n      <td>0</td>\n      <td>0</td>\n      <td>--</td>\n      <td>0</td>\n      <td>0</td>\n      <td>--</td>\n      <td>--</td>\n      <td>--</td>\n    </tr>\n    <tr>\n      <th>1</th>\n      <td>8480977</td>\n      <td>2022-23</td>\n      <td>Maple Leafs</td>\n      <td>1</td>\n      <td>0</td>\n      <td>0</td>\n      <td>0</td>\n      <td>+1</td>\n      <td>0</td>\n      <td>0</td>\n      <td>0</td>\n      <td>0</td>\n      <td>0</td>\n      <td>7:16</td>\n      <td>0</td>\n      <td>0</td>\n      <td>0</td>\n      <td>0.0</td>\n      <td>0.0</td>\n    </tr>\n    <tr>\n      <th>2</th>\n      <td>8475188</td>\n      <td>2011-12</td>\n      <td>Sabres</td>\n      <td>25</td>\n      <td>1</td>\n      <td>7</td>\n      <td>8</td>\n      <td>-1</td>\n      <td>15</td>\n      <td>1</td>\n      <td>1</td>\n      <td>0</td>\n      <td>0</td>\n      <td>17:50</td>\n      <td>0</td>\n      <td>0</td>\n      <td>23</td>\n      <td>4.4</td>\n      <td>0.0</td>\n    </tr>\n    <tr>\n      <th>3</th>\n      <td>8475188</td>\n      <td>2013-14</td>\n      <td>Sabres</td>\n      <td>12</td>\n      <td>0</td>\n      <td>0</td>\n      <td>0</td>\n      <td>+1</td>\n      <td>6</td>\n      <td>0</td>\n      <td>0</td>\n      <td>0</td>\n      <td>0</td>\n      <td>17:13</td>\n      <td>0</td>\n      <td>0</td>\n      <td>10</td>\n      <td>0.0</td>\n      <td>0.0</td>\n    </tr>\n    <tr>\n      <th>4</th>\n      <td>8475188</td>\n      <td>2014-15</td>\n      <td>Kings</td>\n      <td>71</td>\n      <td>2</td>\n      <td>22</td>\n      <td>24</td>\n      <td>+11</td>\n      <td>52</td>\n      <td>0</td>\n      <td>5</td>\n      <td>0</td>\n      <td>0</td>\n      <td>15:53</td>\n      <td>1</td>\n      <td>0</td>\n      <td>74</td>\n      <td>2.7</td>\n      <td>100.0</td>\n    </tr>\n    <tr>\n      <th>...</th>\n      <td>...</td>\n      <td>...</td>\n      <td>...</td>\n      <td>...</td>\n      <td>...</td>\n      <td>...</td>\n      <td>...</td>\n      <td>...</td>\n      <td>...</td>\n      <td>...</td>\n      <td>...</td>\n      <td>...</td>\n      <td>...</td>\n      <td>...</td>\n      <td>...</td>\n      <td>...</td>\n      <td>...</td>\n      <td>...</td>\n      <td>...</td>\n    </tr>\n    <tr>\n      <th>49712</th>\n      <td>8470171</td>\n      <td>2013-14</td>\n      <td>Flyers</td>\n      <td>11</td>\n      <td>1</td>\n      <td>1</td>\n      <td>2</td>\n      <td>+1</td>\n      <td>2</td>\n      <td>0</td>\n      <td>0</td>\n      <td>0</td>\n      <td>0</td>\n      <td>15:08</td>\n      <td>0</td>\n      <td>0</td>\n      <td>14</td>\n      <td>7.1</td>\n      <td>61.5</td>\n    </tr>\n    <tr>\n      <th>49713</th>\n      <td>8470171</td>\n      <td>2013-14</td>\n      <td>Avalanche</td>\n      <td>70</td>\n      <td>7</td>\n      <td>18</td>\n      <td>25</td>\n      <td>+4</td>\n      <td>43</td>\n      <td>0</td>\n      <td>1</td>\n      <td>1</td>\n      <td>1</td>\n      <td>16:19</td>\n      <td>1</td>\n      <td>0</td>\n      <td>110</td>\n      <td>6.4</td>\n      <td>42.2</td>\n    </tr>\n    <tr>\n      <th>49714</th>\n      <td>8470171</td>\n      <td>2014-15</td>\n      <td>Avalanche</td>\n      <td>63</td>\n      <td>5</td>\n      <td>10</td>\n      <td>15</td>\n      <td>+2</td>\n      <td>27</td>\n      <td>0</td>\n      <td>0</td>\n      <td>0</td>\n      <td>0</td>\n      <td>14:00</td>\n      <td>1</td>\n      <td>0</td>\n      <td>73</td>\n      <td>6.9</td>\n      <td>49.0</td>\n    </tr>\n    <tr>\n      <th>49715</th>\n      <td>8470171</td>\n      <td>2014-15</td>\n      <td>Bruins</td>\n      <td>18</td>\n      <td>0</td>\n      <td>3</td>\n      <td>3</td>\n      <td>-3</td>\n      <td>2</td>\n      <td>0</td>\n      <td>0</td>\n      <td>0</td>\n      <td>0</td>\n      <td>12:13</td>\n      <td>0</td>\n      <td>0</td>\n      <td>24</td>\n      <td>0.0</td>\n      <td>36.4</td>\n    </tr>\n    <tr>\n      <th>49716</th>\n      <td>8470171</td>\n      <td>2015-16</td>\n      <td>Bruins</td>\n      <td>38</td>\n      <td>2</td>\n      <td>5</td>\n      <td>7</td>\n      <td>-11</td>\n      <td>15</td>\n      <td>0</td>\n      <td>1</td>\n      <td>0</td>\n      <td>0</td>\n      <td>11:12</td>\n      <td>1</td>\n      <td>0</td>\n      <td>29</td>\n      <td>6.9</td>\n      <td>47.5</td>\n    </tr>\n  </tbody>\n</table>\n<p>49717 rows × 19 columns</p>\n</div>"
     },
     "execution_count": 14,
     "metadata": {},
     "output_type": "execute_result"
    }
   ],
   "source": [
    "players_seasons_df"
   ],
   "metadata": {
    "collapsed": false,
    "ExecuteTime": {
     "end_time": "2023-10-29T09:56:01.780675Z",
     "start_time": "2023-10-29T09:56:01.732267Z"
    }
   },
   "id": "2a9f375e09606dae"
  },
  {
   "cell_type": "code",
   "execution_count": 15,
   "outputs": [],
   "source": [
    "players_seasons_df.to_csv('../data/csvFiles/playersSeasons.csv', index=False)"
   ],
   "metadata": {
    "collapsed": false,
    "ExecuteTime": {
     "end_time": "2023-10-29T09:56:02.159500Z",
     "start_time": "2023-10-29T09:56:01.784226Z"
    }
   },
   "id": "e671d81b51a5e83"
  }
 ],
 "metadata": {
  "kernelspec": {
   "display_name": "Python 3",
   "language": "python",
   "name": "python3"
  },
  "language_info": {
   "codemirror_mode": {
    "name": "ipython",
    "version": 2
   },
   "file_extension": ".py",
   "mimetype": "text/x-python",
   "name": "python",
   "nbconvert_exporter": "python",
   "pygments_lexer": "ipython2",
   "version": "2.7.6"
  }
 },
 "nbformat": 4,
 "nbformat_minor": 5
}
